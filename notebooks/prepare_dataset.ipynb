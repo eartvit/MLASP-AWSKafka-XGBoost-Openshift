{
 "cells": [
  {
   "cell_type": "code",
   "execution_count": 1,
   "id": "1a95985c",
   "metadata": {},
   "outputs": [],
   "source": [
    "import numpy as np\n",
    "import pandas as pd\n",
    "pd.set_option('display.max_rows', 1000)\n",
    "pd.pandas.set_option('display.max_columns', None)\n",
    "import matplotlib.pyplot as plt\n",
    "%matplotlib inline"
   ]
  },
  {
   "cell_type": "code",
   "execution_count": 2,
   "id": "a2f44bbe",
   "metadata": {},
   "outputs": [],
   "source": [
    "from numpy.random import seed\n",
    "seed(42)"
   ]
  },
  {
   "cell_type": "code",
   "execution_count": 3,
   "id": "efd33dbf",
   "metadata": {},
   "outputs": [],
   "source": [
    "summaryL1Z1 = pd.read_csv('summary-L1-zone1.csv')\n",
    "summaryL1Z2 = pd.read_csv('summary-L1-zone2.csv')\n",
    "summaryL2Z1 = pd.read_csv('summary-L2-zone1.csv')\n",
    "summaryL2Z2 = pd.read_csv('summary-L2-zone2.csv')\n",
    "summaryL3Z1 = pd.read_csv('summary-L3-zone1.csv')\n",
    "summaryL3Z2 = pd.read_csv('summary-L3-zone2.csv')"
   ]
  },
  {
   "cell_type": "code",
   "execution_count": 4,
   "id": "5f9cd324",
   "metadata": {},
   "outputs": [
    {
     "data": {
      "text/html": [
       "<div>\n",
       "<style scoped>\n",
       "    .dataframe tbody tr th:only-of-type {\n",
       "        vertical-align: middle;\n",
       "    }\n",
       "\n",
       "    .dataframe tbody tr th {\n",
       "        vertical-align: top;\n",
       "    }\n",
       "\n",
       "    .dataframe thead th {\n",
       "        text-align: right;\n",
       "    }\n",
       "</style>\n",
       "<table border=\"1\" class=\"dataframe\">\n",
       "  <thead>\n",
       "    <tr style=\"text-align: right;\">\n",
       "      <th></th>\n",
       "      <th>LoopId</th>\n",
       "      <th>LoopStartTime</th>\n",
       "      <th>BackgroundThreads</th>\n",
       "      <th>LogCleanerThreads</th>\n",
       "      <th>NumIoThreads</th>\n",
       "      <th>NumNetworkThreads</th>\n",
       "      <th>NumPartitions</th>\n",
       "      <th>NumNodes</th>\n",
       "      <th>NumReplicaFetchers</th>\n",
       "      <th>ThreadsClient</th>\n",
       "      <th>MessageSize</th>\n",
       "      <th>TotalMessages</th>\n",
       "    </tr>\n",
       "  </thead>\n",
       "  <tbody>\n",
       "    <tr>\n",
       "      <th>0</th>\n",
       "      <td>1</td>\n",
       "      <td>2019-07-06_03-02-41</td>\n",
       "      <td>10</td>\n",
       "      <td>1</td>\n",
       "      <td>4</td>\n",
       "      <td>3</td>\n",
       "      <td>1</td>\n",
       "      <td>1</td>\n",
       "      <td>1</td>\n",
       "      <td>10</td>\n",
       "      <td>10240</td>\n",
       "      <td>333614</td>\n",
       "    </tr>\n",
       "    <tr>\n",
       "      <th>1</th>\n",
       "      <td>2</td>\n",
       "      <td>2019-07-06_03-37-18</td>\n",
       "      <td>10</td>\n",
       "      <td>1</td>\n",
       "      <td>4</td>\n",
       "      <td>3</td>\n",
       "      <td>1</td>\n",
       "      <td>1</td>\n",
       "      <td>1</td>\n",
       "      <td>10</td>\n",
       "      <td>102400</td>\n",
       "      <td>74311</td>\n",
       "    </tr>\n",
       "    <tr>\n",
       "      <th>2</th>\n",
       "      <td>3</td>\n",
       "      <td>2019-07-06_04-11-56</td>\n",
       "      <td>10</td>\n",
       "      <td>1</td>\n",
       "      <td>4</td>\n",
       "      <td>3</td>\n",
       "      <td>1</td>\n",
       "      <td>1</td>\n",
       "      <td>1</td>\n",
       "      <td>15</td>\n",
       "      <td>10240</td>\n",
       "      <td>485829</td>\n",
       "    </tr>\n",
       "    <tr>\n",
       "      <th>3</th>\n",
       "      <td>4</td>\n",
       "      <td>2019-07-06_04-46-36</td>\n",
       "      <td>10</td>\n",
       "      <td>1</td>\n",
       "      <td>4</td>\n",
       "      <td>3</td>\n",
       "      <td>1</td>\n",
       "      <td>1</td>\n",
       "      <td>1</td>\n",
       "      <td>15</td>\n",
       "      <td>102400</td>\n",
       "      <td>75750</td>\n",
       "    </tr>\n",
       "    <tr>\n",
       "      <th>4</th>\n",
       "      <td>5</td>\n",
       "      <td>2019-07-06_05-20-39</td>\n",
       "      <td>10</td>\n",
       "      <td>1</td>\n",
       "      <td>4</td>\n",
       "      <td>3</td>\n",
       "      <td>1</td>\n",
       "      <td>1</td>\n",
       "      <td>1</td>\n",
       "      <td>20</td>\n",
       "      <td>10240</td>\n",
       "      <td>613018</td>\n",
       "    </tr>\n",
       "  </tbody>\n",
       "</table>\n",
       "</div>"
      ],
      "text/plain": [
       "   LoopId        LoopStartTime  BackgroundThreads  LogCleanerThreads  \\\n",
       "0       1  2019-07-06_03-02-41                 10                  1   \n",
       "1       2  2019-07-06_03-37-18                 10                  1   \n",
       "2       3  2019-07-06_04-11-56                 10                  1   \n",
       "3       4  2019-07-06_04-46-36                 10                  1   \n",
       "4       5  2019-07-06_05-20-39                 10                  1   \n",
       "\n",
       "   NumIoThreads  NumNetworkThreads  NumPartitions  NumNodes  \\\n",
       "0             4                  3              1         1   \n",
       "1             4                  3              1         1   \n",
       "2             4                  3              1         1   \n",
       "3             4                  3              1         1   \n",
       "4             4                  3              1         1   \n",
       "\n",
       "   NumReplicaFetchers  ThreadsClient  MessageSize  TotalMessages  \n",
       "0                   1             10        10240         333614  \n",
       "1                   1             10       102400          74311  \n",
       "2                   1             15        10240         485829  \n",
       "3                   1             15       102400          75750  \n",
       "4                   1             20        10240         613018  "
      ]
     },
     "execution_count": 4,
     "metadata": {},
     "output_type": "execute_result"
    }
   ],
   "source": [
    "allData = summaryL1Z1.copy()\n",
    "allData = allData.append(summaryL1Z2)\n",
    "allData = allData.append(summaryL2Z1)\n",
    "allData = allData.append(summaryL2Z2)\n",
    "allData = allData.append(summaryL3Z1)\n",
    "allData = allData.append(summaryL3Z2)\n",
    "allData.head()"
   ]
  },
  {
   "cell_type": "code",
   "execution_count": 5,
   "id": "3932eeb0",
   "metadata": {},
   "outputs": [
    {
     "name": "stdout",
     "output_type": "stream",
     "text": [
      "Number of numerical variables:  11\n"
     ]
    }
   ],
   "source": [
    "# Find out the numerical variables\n",
    "num_vars = [var for var in allData.columns if allData[var].dtypes != 'O']\n",
    "\n",
    "print('Number of numerical variables: ', len(num_vars))"
   ]
  },
  {
   "cell_type": "code",
   "execution_count": 6,
   "id": "126e4fe5",
   "metadata": {},
   "outputs": [
    {
     "data": {
      "text/plain": [
       "['LoopId',\n",
       " 'BackgroundThreads',\n",
       " 'LogCleanerThreads',\n",
       " 'NumIoThreads',\n",
       " 'NumNetworkThreads',\n",
       " 'NumPartitions',\n",
       " 'NumNodes',\n",
       " 'NumReplicaFetchers',\n",
       " 'ThreadsClient',\n",
       " 'MessageSize',\n",
       " 'TotalMessages']"
      ]
     },
     "execution_count": 6,
     "metadata": {},
     "output_type": "execute_result"
    }
   ],
   "source": [
    "num_vars"
   ]
  },
  {
   "cell_type": "code",
   "execution_count": 7,
   "id": "6a84f4c5",
   "metadata": {},
   "outputs": [
    {
     "name": "stdout",
     "output_type": "stream",
     "text": [
      "Number of discrete variables:  7\n"
     ]
    }
   ],
   "source": [
    "#  Find out any discrete variables. We may consider discrete any numerical variables under a threshold, e.g. 5\n",
    "discrete_vars = [var for var in num_vars if len(allData[var].unique())<5 and var not in ['LoopId']]\n",
    "\n",
    "print('Number of discrete variables: ', len(discrete_vars))"
   ]
  },
  {
   "cell_type": "code",
   "execution_count": 8,
   "id": "676e7cba",
   "metadata": {},
   "outputs": [
    {
     "data": {
      "text/plain": [
       "['LogCleanerThreads',\n",
       " 'NumIoThreads',\n",
       " 'NumNetworkThreads',\n",
       " 'NumPartitions',\n",
       " 'NumNodes',\n",
       " 'NumReplicaFetchers',\n",
       " 'MessageSize']"
      ]
     },
     "execution_count": 8,
     "metadata": {},
     "output_type": "execute_result"
    }
   ],
   "source": [
    "discrete_vars"
   ]
  },
  {
   "cell_type": "code",
   "execution_count": 9,
   "id": "be6b4a2f",
   "metadata": {},
   "outputs": [
    {
     "name": "stdout",
     "output_type": "stream",
     "text": [
      "Number of continuous variables:  2\n"
     ]
    }
   ],
   "source": [
    "# Create the list of continuous variables\n",
    "# We will consider continuous all those that are not temporal or discrete variables in our dataset.\n",
    "cont_vars = [var for var in num_vars if var not in discrete_vars+['LoopId', 'TotalMessages']]\n",
    "\n",
    "print('Number of continuous variables: ', len(cont_vars))"
   ]
  },
  {
   "cell_type": "code",
   "execution_count": 10,
   "id": "4a466419",
   "metadata": {},
   "outputs": [
    {
     "data": {
      "text/plain": [
       "['BackgroundThreads', 'ThreadsClient']"
      ]
     },
     "execution_count": 10,
     "metadata": {},
     "output_type": "execute_result"
    }
   ],
   "source": [
    "cont_vars"
   ]
  },
  {
   "cell_type": "code",
   "execution_count": 11,
   "id": "1171052e",
   "metadata": {},
   "outputs": [
    {
     "data": {
      "image/png": "[encoded data removed]",
      "text/plain": [
       "<Figure size 360x360 with 1 Axes>"
      ]
     },
     "metadata": {
      "needs_background": "light"
     },
     "output_type": "display_data"
    },
    {
     "data": {
      "image/png": "[encoded data removed]",
      "text/plain": [
       "<Figure size 360x360 with 1 Axes>"
      ]
     },
     "metadata": {
      "needs_background": "light"
     },
     "output_type": "display_data"
    }
   ],
   "source": [
    "for var in cont_vars:\n",
    "    plt.figure(figsize=(5,5))\n",
    "    plt.boxplot(allData[var])\n",
    "    plt.title(var)\n",
    "    plt.show()"
   ]
  },
  {
   "cell_type": "markdown",
   "id": "e833361a",
   "metadata": {},
   "source": [
    "It appears from the above boxplots that only ThreadsClient has outliers"
   ]
  },
  {
   "cell_type": "code",
   "execution_count": 12,
   "id": "44c81f0a",
   "metadata": {},
   "outputs": [],
   "source": [
    "outliers=['ThreadsClient']\n",
    "target_var = 'TotalMessages'\n",
    "dropColumns=['LoopId', 'LoopStartTime']"
   ]
  },
  {
   "cell_type": "code",
   "execution_count": 13,
   "id": "cc135e85",
   "metadata": {},
   "outputs": [],
   "source": [
    "allData = allData.drop(dropColumns, axis=1)"
   ]
  },
  {
   "cell_type": "code",
   "execution_count": 14,
   "id": "b44eef03",
   "metadata": {},
   "outputs": [
    {
     "data": {
      "text/plain": [
       "(900, 10)"
      ]
     },
     "execution_count": 14,
     "metadata": {},
     "output_type": "execute_result"
    }
   ],
   "source": [
    "allData.shape"
   ]
  },
  {
   "cell_type": "code",
   "execution_count": 15,
   "id": "720e802e",
   "metadata": {},
   "outputs": [
    {
     "data": {
      "text/html": [
       "<div>\n",
       "<style scoped>\n",
       "    .dataframe tbody tr th:only-of-type {\n",
       "        vertical-align: middle;\n",
       "    }\n",
       "\n",
       "    .dataframe tbody tr th {\n",
       "        vertical-align: top;\n",
       "    }\n",
       "\n",
       "    .dataframe thead th {\n",
       "        text-align: right;\n",
       "    }\n",
       "</style>\n",
       "<table border=\"1\" class=\"dataframe\">\n",
       "  <thead>\n",
       "    <tr style=\"text-align: right;\">\n",
       "      <th></th>\n",
       "      <th>BackgroundThreads</th>\n",
       "      <th>LogCleanerThreads</th>\n",
       "      <th>NumIoThreads</th>\n",
       "      <th>NumNetworkThreads</th>\n",
       "      <th>NumPartitions</th>\n",
       "      <th>NumNodes</th>\n",
       "      <th>NumReplicaFetchers</th>\n",
       "      <th>ThreadsClient</th>\n",
       "      <th>MessageSize</th>\n",
       "      <th>TotalMessages</th>\n",
       "    </tr>\n",
       "  </thead>\n",
       "  <tbody>\n",
       "    <tr>\n",
       "      <th>0</th>\n",
       "      <td>10</td>\n",
       "      <td>1</td>\n",
       "      <td>4</td>\n",
       "      <td>3</td>\n",
       "      <td>1</td>\n",
       "      <td>1</td>\n",
       "      <td>1</td>\n",
       "      <td>10</td>\n",
       "      <td>10240</td>\n",
       "      <td>333614</td>\n",
       "    </tr>\n",
       "    <tr>\n",
       "      <th>1</th>\n",
       "      <td>10</td>\n",
       "      <td>1</td>\n",
       "      <td>4</td>\n",
       "      <td>3</td>\n",
       "      <td>1</td>\n",
       "      <td>1</td>\n",
       "      <td>1</td>\n",
       "      <td>10</td>\n",
       "      <td>102400</td>\n",
       "      <td>74311</td>\n",
       "    </tr>\n",
       "    <tr>\n",
       "      <th>2</th>\n",
       "      <td>10</td>\n",
       "      <td>1</td>\n",
       "      <td>4</td>\n",
       "      <td>3</td>\n",
       "      <td>1</td>\n",
       "      <td>1</td>\n",
       "      <td>1</td>\n",
       "      <td>15</td>\n",
       "      <td>10240</td>\n",
       "      <td>485829</td>\n",
       "    </tr>\n",
       "    <tr>\n",
       "      <th>3</th>\n",
       "      <td>10</td>\n",
       "      <td>1</td>\n",
       "      <td>4</td>\n",
       "      <td>3</td>\n",
       "      <td>1</td>\n",
       "      <td>1</td>\n",
       "      <td>1</td>\n",
       "      <td>15</td>\n",
       "      <td>102400</td>\n",
       "      <td>75750</td>\n",
       "    </tr>\n",
       "    <tr>\n",
       "      <th>4</th>\n",
       "      <td>10</td>\n",
       "      <td>1</td>\n",
       "      <td>4</td>\n",
       "      <td>3</td>\n",
       "      <td>1</td>\n",
       "      <td>1</td>\n",
       "      <td>1</td>\n",
       "      <td>20</td>\n",
       "      <td>10240</td>\n",
       "      <td>613018</td>\n",
       "    </tr>\n",
       "  </tbody>\n",
       "</table>\n",
       "</div>"
      ],
      "text/plain": [
       "   BackgroundThreads  LogCleanerThreads  NumIoThreads  NumNetworkThreads  \\\n",
       "0                 10                  1             4                  3   \n",
       "1                 10                  1             4                  3   \n",
       "2                 10                  1             4                  3   \n",
       "3                 10                  1             4                  3   \n",
       "4                 10                  1             4                  3   \n",
       "\n",
       "   NumPartitions  NumNodes  NumReplicaFetchers  ThreadsClient  MessageSize  \\\n",
       "0              1         1                   1             10        10240   \n",
       "1              1         1                   1             10       102400   \n",
       "2              1         1                   1             15        10240   \n",
       "3              1         1                   1             15       102400   \n",
       "4              1         1                   1             20        10240   \n",
       "\n",
       "   TotalMessages  \n",
       "0         333614  \n",
       "1          74311  \n",
       "2         485829  \n",
       "3          75750  \n",
       "4         613018  "
      ]
     },
     "execution_count": 15,
     "metadata": {},
     "output_type": "execute_result"
    }
   ],
   "source": [
    "allData.head()"
   ]
  },
  {
   "cell_type": "code",
   "execution_count": 16,
   "id": "021ab9fc",
   "metadata": {},
   "outputs": [
    {
     "data": {
      "text/plain": [
       "((810, 10), (90, 10))"
      ]
     },
     "execution_count": 16,
     "metadata": {},
     "output_type": "execute_result"
    }
   ],
   "source": [
    "from sklearn.model_selection import train_test_split\n",
    "\n",
    "X_train, X_test, y_train, y_test = train_test_split(allData, allData.TotalMessages,\n",
    "                                                    test_size=0.1,\n",
    "                                                    random_state=0) # we are setting the seed here\n",
    "X_train.shape, X_test.shape"
   ]
  },
  {
   "cell_type": "code",
   "execution_count": 17,
   "id": "4daaaaf1",
   "metadata": {},
   "outputs": [],
   "source": [
    "X_train = X_train.drop(target_var, axis=1)"
   ]
  },
  {
   "cell_type": "code",
   "execution_count": 18,
   "id": "e41aa908",
   "metadata": {},
   "outputs": [],
   "source": [
    "X_test = X_test.drop(target_var, axis=1)"
   ]
  }
 ],
 "metadata": {
  "kernelspec": {
   "display_name": "TensorFlow-CPU",
   "language": "python",
   "name": "tf-cpu"
  },
  "language_info": {
   "codemirror_mode": {
    "name": "ipython",
    "version": 3
   },
   "file_extension": ".py",
   "mimetype": "text/x-python",
   "name": "python",
   "nbconvert_exporter": "python",
   "pygments_lexer": "ipython3",
   "version": "3.9.12"
  }
 },
 "nbformat": 4,
 "nbformat_minor": 5
}
